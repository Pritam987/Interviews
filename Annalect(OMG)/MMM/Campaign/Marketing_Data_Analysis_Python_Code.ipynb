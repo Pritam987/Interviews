{
 "cells": [
  {
   "cell_type": "code",
   "execution_count": 1,
   "id": "ef771653",
   "metadata": {},
   "outputs": [],
   "source": [
    "import pandas as pd\n",
    "import matplotlib.pyplot as plt"
   ]
  },
  {
   "cell_type": "code",
   "execution_count": 2,
   "id": "d276d6f0",
   "metadata": {},
   "outputs": [],
   "source": [
    "df = pd.read_excel('Campaign data_PS.xlsx', sheet_name='Sheet1', engine='openpyxl')"
   ]
  },
  {
   "cell_type": "code",
   "execution_count": 3,
   "id": "83abf6f6",
   "metadata": {},
   "outputs": [],
   "source": [
    "pivot_df = df.pivot_table(index=['Date', 'Data source', 'Campaign', 'Media Type', 'City'], columns='Metric', values='Value', aggfunc='sum').reset_index()"
   ]
  },
  {
   "cell_type": "code",
   "execution_count": 17,
   "id": "1deba9a5",
   "metadata": {},
   "outputs": [],
   "source": [
    "pivot_df.to_excel('Campaign_data_pivoted.xlsx', index=False, engine='openpyxl')"
   ]
  },
  {
   "cell_type": "code",
   "execution_count": 4,
   "id": "6bb767b5",
   "metadata": {},
   "outputs": [],
   "source": [
    "pivot_df['Date'] = pd.to_datetime(pivot_df['Date'])"
   ]
  },
  {
   "cell_type": "code",
   "execution_count": 5,
   "id": "a54fe1d1",
   "metadata": {},
   "outputs": [],
   "source": [
    "pivot_df['Month'] = pivot_df['Date'].dt.to_period('M')"
   ]
  },
  {
   "cell_type": "code",
   "execution_count": 6,
   "id": "b3054ece",
   "metadata": {},
   "outputs": [
    {
     "data": {
      "text/plain": [
       "Month\n",
       "2021-09    165961540.0\n",
       "2020-10    129386691.0\n",
       "2021-08    110579072.0\n",
       "2021-03    101885516.0\n",
       "2020-02     61351689.0\n",
       "Freq: M, Name: Impressions, dtype: float64"
      ]
     },
     "execution_count": 6,
     "metadata": {},
     "output_type": "execute_result"
    }
   ],
   "source": [
    "top_5_months = pivot_df.groupby('Month')['Impressions'].sum().nlargest(5)\n",
    "top_5_months"
   ]
  },
  {
   "cell_type": "code",
   "execution_count": 7,
   "id": "31240797",
   "metadata": {},
   "outputs": [
    {
     "data": {
      "text/plain": [
       "'Armada campaign 2'"
      ]
     },
     "execution_count": 7,
     "metadata": {},
     "output_type": "execute_result"
    }
   ],
   "source": [
    "max_impressions_model = pivot_df.groupby('Campaign')['Impressions'].sum().idxmax()\n",
    "max_impressions_model"
   ]
  },
  {
   "cell_type": "code",
   "execution_count": 19,
   "id": "06fbdef2",
   "metadata": {},
   "outputs": [
    {
     "name": "stderr",
     "output_type": "stream",
     "text": [
      "C:\\Users\\Pritam.Saha\\AppData\\Local\\Temp\\ipykernel_14720\\3556788818.py:2: DeprecationWarning: DataFrameGroupBy.apply operated on the grouping columns. This behavior is deprecated, and in a future version of pandas the grouping columns will be excluded from the operation. Either pass `include_groups=False` to exclude the groupings or explicitly select the grouping columns after groupby to silence this warning.\n",
      "  top_3_campaigns_per_media_type = top_3_campaigns_per_media_type.groupby('Media Type').apply(lambda x: x.nlargest(3, 'Impressions')).reset_index(drop=True)\n"
     ]
    },
    {
     "data": {
      "application/vnd.microsoft.datawrangler.viewer.v0+json": {
       "columns": [
        {
         "name": "index",
         "rawType": "int64",
         "type": "integer"
        },
        {
         "name": "Media Type",
         "rawType": "object",
         "type": "string"
        },
        {
         "name": "Campaign",
         "rawType": "object",
         "type": "string"
        },
        {
         "name": "Impressions",
         "rawType": "float64",
         "type": "float"
        }
       ],
       "conversionMethod": "pd.DataFrame",
       "ref": "adf80ae5-88d8-45c3-93f9-a3b70342973a",
       "rows": [
        [
         "0",
         "Display",
         "Armada campaign 2",
         "118817195.0"
        ],
        [
         "1",
         "Display",
         "Pathfinder campaign 1",
         "48923126.0"
        ],
        [
         "2",
         "Display",
         "shop at home",
         "8767120.0"
        ],
        [
         "3",
         "Online Video",
         "Pathfinder campaign 2",
         "115286607.0"
        ],
        [
         "4",
         "Online Video",
         "Pathfinder campaign 6",
         "51823574.0"
        ],
        [
         "5",
         "Online Video",
         "Altima campaign 3",
         "45450707.0"
        ]
       ],
       "shape": {
        "columns": 3,
        "rows": 6
       }
      },
      "text/html": [
       "<div>\n",
       "<style scoped>\n",
       "    .dataframe tbody tr th:only-of-type {\n",
       "        vertical-align: middle;\n",
       "    }\n",
       "\n",
       "    .dataframe tbody tr th {\n",
       "        vertical-align: top;\n",
       "    }\n",
       "\n",
       "    .dataframe thead th {\n",
       "        text-align: right;\n",
       "    }\n",
       "</style>\n",
       "<table border=\"1\" class=\"dataframe\">\n",
       "  <thead>\n",
       "    <tr style=\"text-align: right;\">\n",
       "      <th></th>\n",
       "      <th>Media Type</th>\n",
       "      <th>Campaign</th>\n",
       "      <th>Impressions</th>\n",
       "    </tr>\n",
       "  </thead>\n",
       "  <tbody>\n",
       "    <tr>\n",
       "      <th>0</th>\n",
       "      <td>Display</td>\n",
       "      <td>Armada campaign 2</td>\n",
       "      <td>118817195.0</td>\n",
       "    </tr>\n",
       "    <tr>\n",
       "      <th>1</th>\n",
       "      <td>Display</td>\n",
       "      <td>Pathfinder campaign 1</td>\n",
       "      <td>48923126.0</td>\n",
       "    </tr>\n",
       "    <tr>\n",
       "      <th>2</th>\n",
       "      <td>Display</td>\n",
       "      <td>shop at home</td>\n",
       "      <td>8767120.0</td>\n",
       "    </tr>\n",
       "    <tr>\n",
       "      <th>3</th>\n",
       "      <td>Online Video</td>\n",
       "      <td>Pathfinder campaign 2</td>\n",
       "      <td>115286607.0</td>\n",
       "    </tr>\n",
       "    <tr>\n",
       "      <th>4</th>\n",
       "      <td>Online Video</td>\n",
       "      <td>Pathfinder campaign 6</td>\n",
       "      <td>51823574.0</td>\n",
       "    </tr>\n",
       "    <tr>\n",
       "      <th>5</th>\n",
       "      <td>Online Video</td>\n",
       "      <td>Altima campaign 3</td>\n",
       "      <td>45450707.0</td>\n",
       "    </tr>\n",
       "  </tbody>\n",
       "</table>\n",
       "</div>"
      ],
      "text/plain": [
       "     Media Type               Campaign  Impressions\n",
       "0       Display      Armada campaign 2  118817195.0\n",
       "1       Display  Pathfinder campaign 1   48923126.0\n",
       "2       Display           shop at home    8767120.0\n",
       "3  Online Video  Pathfinder campaign 2  115286607.0\n",
       "4  Online Video  Pathfinder campaign 6   51823574.0\n",
       "5  Online Video      Altima campaign 3   45450707.0"
      ]
     },
     "execution_count": 19,
     "metadata": {},
     "output_type": "execute_result"
    }
   ],
   "source": [
    "top_3_campaigns_per_media_type = pivot_df.groupby(['Media Type', 'Campaign'])['Impressions'].sum().reset_index()\n",
    "top_3_campaigns_per_media_type = top_3_campaigns_per_media_type.groupby('Media Type').apply(lambda x: x.nlargest(3, 'Impressions')).reset_index(drop=True)\n",
    "top_3_campaigns_per_media_type"
   ]
  },
  {
   "cell_type": "code",
   "execution_count": 9,
   "id": "ab7c0ed3",
   "metadata": {},
   "outputs": [
    {
     "data": {
      "text/plain": [
       "True"
      ]
     },
     "execution_count": 9,
     "metadata": {},
     "output_type": "execute_result"
    }
   ],
   "source": [
    "max_impressions_campaign = pivot_df.groupby('Campaign')['Impressions'].sum().idxmax()\n",
    "max_clicks_campaign = pivot_df.groupby('Campaign')['Clicks'].sum().idxmax()\n",
    "max_impressions_equals_max_clicks = max_impressions_campaign == max_clicks_campaign\n",
    "max_impressions_equals_max_clicks"
   ]
  },
  {
   "cell_type": "code",
   "execution_count": 10,
   "id": "64ea4723",
   "metadata": {},
   "outputs": [
    {
     "data": {
      "text/plain": [
       "Campaign\n",
       "Pathfinder campaign 3    17.858996\n",
       "Pathfinder campaign 7    17.682058\n",
       "Pathfinder campaign 5    17.661875\n",
       "Name: CPM, dtype: float64"
      ]
     },
     "execution_count": 10,
     "metadata": {},
     "output_type": "execute_result"
    }
   ],
   "source": [
    "pivot_df['CPM'] = pivot_df['Media Cost'] / pivot_df['Impressions'] * 1000\n",
    "top_3_campaigns_by_cpm = pivot_df.groupby('Campaign')['CPM'].mean().nlargest(3)\n",
    "top_3_campaigns_by_cpm"
   ]
  },
  {
   "cell_type": "code",
   "execution_count": 11,
   "id": "65588ade",
   "metadata": {},
   "outputs": [
    {
     "data": {
      "application/vnd.microsoft.datawrangler.viewer.v0+json": {
       "columns": [
        {
         "name": "Month",
         "rawType": "period[M]",
         "type": "unknown"
        },
        {
         "name": "Display",
         "rawType": "float64",
         "type": "float"
        },
        {
         "name": "Online Video",
         "rawType": "float64",
         "type": "float"
        }
       ],
       "conversionMethod": "pd.DataFrame",
       "ref": "7fac6cba-3ee0-4ce7-832c-2a76329f1204",
       "rows": [
        [
         "2019-12",
         "0.0",
         "0.0"
        ],
        [
         "2020-01",
         "0.0",
         "0.0"
        ],
        [
         "2020-02",
         "424.5663901869159",
         "0.0"
        ],
        [
         "2020-03",
         "411.1360565110565",
         "8.695333333333332"
        ],
        [
         "2020-04",
         "0.0",
         "0.0"
        ],
        [
         "2020-05",
         "0.0",
         null
        ],
        [
         "2020-06",
         "0.0",
         "9.997719298245615"
        ],
        [
         "2020-07",
         "0.0",
         "26.610211221122114"
        ],
        [
         "2020-08",
         "0.0",
         "80.53493081761006"
        ],
        [
         "2020-09",
         "0.0",
         "644.1411900191938"
        ],
        [
         "2020-10",
         "0.0009251101321585903",
         "250.8200200291333"
        ],
        [
         "2020-11",
         "0.0",
         "148.41270423991728"
        ],
        [
         "2020-12",
         "0.0",
         "238.50846536548028"
        ],
        [
         "2021-01",
         "0.0",
         "129.92734500875656"
        ],
        [
         "2021-02",
         "0.0",
         "180.08335353535355"
        ],
        [
         "2021-03",
         "8.739856115107914",
         "186.90218448829737"
        ],
        [
         "2021-04",
         "166.06183811129847",
         "172.28624478442282"
        ],
        [
         "2021-05",
         "0.0",
         "0.0"
        ],
        [
         "2021-06",
         "0.0",
         "0.0"
        ],
        [
         "2021-07",
         "0.0",
         "0.0"
        ],
        [
         "2021-08",
         "0.0",
         "259.0552106838591"
        ],
        [
         "2021-09",
         "211.77172523961661",
         "281.9963282980866"
        ]
       ],
       "shape": {
        "columns": 2,
        "rows": 22
       }
      },
      "text/html": [
       "<div>\n",
       "<style scoped>\n",
       "    .dataframe tbody tr th:only-of-type {\n",
       "        vertical-align: middle;\n",
       "    }\n",
       "\n",
       "    .dataframe tbody tr th {\n",
       "        vertical-align: top;\n",
       "    }\n",
       "\n",
       "    .dataframe thead th {\n",
       "        text-align: right;\n",
       "    }\n",
       "</style>\n",
       "<table border=\"1\" class=\"dataframe\">\n",
       "  <thead>\n",
       "    <tr style=\"text-align: right;\">\n",
       "      <th>Media Type</th>\n",
       "      <th>Display</th>\n",
       "      <th>Online Video</th>\n",
       "    </tr>\n",
       "    <tr>\n",
       "      <th>Month</th>\n",
       "      <th></th>\n",
       "      <th></th>\n",
       "    </tr>\n",
       "  </thead>\n",
       "  <tbody>\n",
       "    <tr>\n",
       "      <th>2019-12</th>\n",
       "      <td>0.000000</td>\n",
       "      <td>0.000000</td>\n",
       "    </tr>\n",
       "    <tr>\n",
       "      <th>2020-01</th>\n",
       "      <td>0.000000</td>\n",
       "      <td>0.000000</td>\n",
       "    </tr>\n",
       "    <tr>\n",
       "      <th>2020-02</th>\n",
       "      <td>424.566390</td>\n",
       "      <td>0.000000</td>\n",
       "    </tr>\n",
       "    <tr>\n",
       "      <th>2020-03</th>\n",
       "      <td>411.136057</td>\n",
       "      <td>8.695333</td>\n",
       "    </tr>\n",
       "    <tr>\n",
       "      <th>2020-04</th>\n",
       "      <td>0.000000</td>\n",
       "      <td>0.000000</td>\n",
       "    </tr>\n",
       "    <tr>\n",
       "      <th>2020-05</th>\n",
       "      <td>0.000000</td>\n",
       "      <td>NaN</td>\n",
       "    </tr>\n",
       "    <tr>\n",
       "      <th>2020-06</th>\n",
       "      <td>0.000000</td>\n",
       "      <td>9.997719</td>\n",
       "    </tr>\n",
       "    <tr>\n",
       "      <th>2020-07</th>\n",
       "      <td>0.000000</td>\n",
       "      <td>26.610211</td>\n",
       "    </tr>\n",
       "    <tr>\n",
       "      <th>2020-08</th>\n",
       "      <td>0.000000</td>\n",
       "      <td>80.534931</td>\n",
       "    </tr>\n",
       "    <tr>\n",
       "      <th>2020-09</th>\n",
       "      <td>0.000000</td>\n",
       "      <td>644.141190</td>\n",
       "    </tr>\n",
       "    <tr>\n",
       "      <th>2020-10</th>\n",
       "      <td>0.000925</td>\n",
       "      <td>250.820020</td>\n",
       "    </tr>\n",
       "    <tr>\n",
       "      <th>2020-11</th>\n",
       "      <td>0.000000</td>\n",
       "      <td>148.412704</td>\n",
       "    </tr>\n",
       "    <tr>\n",
       "      <th>2020-12</th>\n",
       "      <td>0.000000</td>\n",
       "      <td>238.508465</td>\n",
       "    </tr>\n",
       "    <tr>\n",
       "      <th>2021-01</th>\n",
       "      <td>0.000000</td>\n",
       "      <td>129.927345</td>\n",
       "    </tr>\n",
       "    <tr>\n",
       "      <th>2021-02</th>\n",
       "      <td>0.000000</td>\n",
       "      <td>180.083354</td>\n",
       "    </tr>\n",
       "    <tr>\n",
       "      <th>2021-03</th>\n",
       "      <td>8.739856</td>\n",
       "      <td>186.902184</td>\n",
       "    </tr>\n",
       "    <tr>\n",
       "      <th>2021-04</th>\n",
       "      <td>166.061838</td>\n",
       "      <td>172.286245</td>\n",
       "    </tr>\n",
       "    <tr>\n",
       "      <th>2021-05</th>\n",
       "      <td>0.000000</td>\n",
       "      <td>0.000000</td>\n",
       "    </tr>\n",
       "    <tr>\n",
       "      <th>2021-06</th>\n",
       "      <td>0.000000</td>\n",
       "      <td>0.000000</td>\n",
       "    </tr>\n",
       "    <tr>\n",
       "      <th>2021-07</th>\n",
       "      <td>0.000000</td>\n",
       "      <td>0.000000</td>\n",
       "    </tr>\n",
       "    <tr>\n",
       "      <th>2021-08</th>\n",
       "      <td>0.000000</td>\n",
       "      <td>259.055211</td>\n",
       "    </tr>\n",
       "    <tr>\n",
       "      <th>2021-09</th>\n",
       "      <td>211.771725</td>\n",
       "      <td>281.996328</td>\n",
       "    </tr>\n",
       "  </tbody>\n",
       "</table>\n",
       "</div>"
      ],
      "text/plain": [
       "Media Type     Display  Online Video\n",
       "Month                               \n",
       "2019-12       0.000000      0.000000\n",
       "2020-01       0.000000      0.000000\n",
       "2020-02     424.566390      0.000000\n",
       "2020-03     411.136057      8.695333\n",
       "2020-04       0.000000      0.000000\n",
       "2020-05       0.000000           NaN\n",
       "2020-06       0.000000      9.997719\n",
       "2020-07       0.000000     26.610211\n",
       "2020-08       0.000000     80.534931\n",
       "2020-09       0.000000    644.141190\n",
       "2020-10       0.000925    250.820020\n",
       "2020-11       0.000000    148.412704\n",
       "2020-12       0.000000    238.508465\n",
       "2021-01       0.000000    129.927345\n",
       "2021-02       0.000000    180.083354\n",
       "2021-03       8.739856    186.902184\n",
       "2021-04     166.061838    172.286245\n",
       "2021-05       0.000000      0.000000\n",
       "2021-06       0.000000      0.000000\n",
       "2021-07       0.000000      0.000000\n",
       "2021-08       0.000000    259.055211\n",
       "2021-09     211.771725    281.996328"
      ]
     },
     "execution_count": 11,
     "metadata": {},
     "output_type": "execute_result"
    }
   ],
   "source": [
    "monthly_avg_media_cost = pivot_df.groupby(['Month', 'Media Type'])['Media Cost'].mean().unstack()\n",
    "monthly_avg_media_cost"
   ]
  },
  {
   "cell_type": "code",
   "execution_count": 12,
   "id": "8e8637eb",
   "metadata": {},
   "outputs": [
    {
     "data": {
      "text/plain": [
       "'Online Video'"
      ]
     },
     "execution_count": 12,
     "metadata": {},
     "output_type": "execute_result"
    }
   ],
   "source": [
    "media_type_cpm = pivot_df.groupby('Media Type')['CPM'].mean().idxmax()\n",
    "media_type_cpm"
   ]
  },
  {
   "cell_type": "code",
   "execution_count": 13,
   "id": "7879c1b3",
   "metadata": {},
   "outputs": [
    {
     "data": {
      "image/png": "[encoded data removed]",
      "text/plain": [
       "<Figure size 800x600 with 1 Axes>"
      ]
     },
     "metadata": {},
     "output_type": "display_data"
    }
   ],
   "source": [
    "impressions_by_media_type = pivot_df.groupby('Media Type')['Impressions'].sum()\n",
    "plt.figure(figsize=(8, 6))\n",
    "impressions_by_media_type.plot.pie(autopct='%1.1f%%')\n",
    "plt.title('Distribution of Impressions by Media Type')\n",
    "plt.show()"
   ]
  },
  {
   "cell_type": "code",
   "execution_count": 14,
   "id": "de660865",
   "metadata": {},
   "outputs": [
    {
     "data": {
      "image/png": "[encoded data removed]",
      "text/plain": [
       "<Figure size 1000x600 with 1 Axes>"
      ]
     },
     "metadata": {},
     "output_type": "display_data"
    }
   ],
   "source": [
    "plt.figure(figsize=(10, 6))\n",
    "top_5_months.plot(kind='bar')\n",
    "plt.title('Top 5 Months by Impressions')\n",
    "plt.xlabel('Month')\n",
    "plt.ylabel('Impressions')\n",
    "plt.show()"
   ]
  },
  {
   "cell_type": "code",
   "execution_count": 15,
   "id": "ed5dcc6c",
   "metadata": {},
   "outputs": [
    {
     "data": {
      "text/plain": [
       "<Figure size 1200x800 with 0 Axes>"
      ]
     },
     "metadata": {},
     "output_type": "display_data"
    },
    {
     "data": {
      "image/png": "[encoded data removed]",
      "text/plain": [
       "<Figure size 640x480 with 1 Axes>"
      ]
     },
     "metadata": {},
     "output_type": "display_data"
    }
   ],
   "source": [
    "plt.figure(figsize=(12, 8))\n",
    "monthly_avg_media_cost.plot(kind='line')\n",
    "plt.title('Monthly Average Media Cost by Media Type')\n",
    "plt.xlabel('Month')\n",
    "plt.ylabel('Average Media Cost')\n",
    "plt.show()"
   ]
  }
 ],
 "metadata": {
  "kernelspec": {
   "display_name": "Python 3",
   "language": "python",
   "name": "python3"
  },
  "language_info": {
   "codemirror_mode": {
    "name": "ipython",
    "version": 3
   },
   "file_extension": ".py",
   "mimetype": "text/x-python",
   "name": "python",
   "nbconvert_exporter": "python",
   "pygments_lexer": "ipython3",
   "version": "3.12.3"
  }
 },
 "nbformat": 4,
 "nbformat_minor": 5
}
