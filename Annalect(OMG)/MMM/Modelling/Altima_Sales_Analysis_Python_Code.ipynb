{
 "cells": [
  {
   "cell_type": "markdown",
   "id": "a7315416",
   "metadata": {},
   "source": [
    "# Linear Regression Analysis of Altima Sales"
   ]
  },
  {
   "cell_type": "code",
   "execution_count": 16,
   "id": "bc7824b4",
   "metadata": {},
   "outputs": [],
   "source": [
    "import pandas as pd\n",
    "import statsmodels.api as sm\n",
    "from sklearn.metrics import mean_absolute_percentage_error\n",
    "from statsmodels.stats.outliers_influence import variance_inflation_factor"
   ]
  },
  {
   "cell_type": "code",
   "execution_count": 17,
   "id": "45980367",
   "metadata": {},
   "outputs": [
    {
     "data": {
      "application/vnd.microsoft.datawrangler.viewer.v0+json": {
       "columns": [
        {
         "name": "index",
         "rawType": "int64",
         "type": "integer"
        },
        {
         "name": "model",
         "rawType": "object",
         "type": "string"
        },
        {
         "name": "month",
         "rawType": "datetime64[ns]",
         "type": "datetime"
        },
        {
         "name": "gas_price",
         "rawType": "float64",
         "type": "float"
        },
        {
         "name": "discount",
         "rawType": "float64",
         "type": "float"
        },
        {
         "name": "sales",
         "rawType": "int64",
         "type": "integer"
        },
        {
         "name": "TV",
         "rawType": "float64",
         "type": "float"
        },
        {
         "name": "YouTube",
         "rawType": "float64",
         "type": "float"
        },
        {
         "name": "Radio",
         "rawType": "float64",
         "type": "float"
        },
        {
         "name": "Print",
         "rawType": "float64",
         "type": "float"
        }
       ],
       "conversionMethod": "pd.DataFrame",
       "ref": "b754811f-f83a-4064-afc3-bbfb5a57ecb2",
       "rows": [
        [
         "0",
         "altima",
         "2018-04-01 00:00:00",
         "2.757",
         "2169.005767",
         "6799",
         "0.0",
         "6.31381446267438e-06",
         "0.0",
         "1.39888235"
        ],
        [
         "1",
         "altima",
         "2018-05-01 00:00:00",
         "2.901",
         "4745.168681",
         "14992",
         "0.0",
         "6.31381446267439e-06",
         "3.300355693",
         "0.224208488"
        ],
        [
         "2",
         "altima",
         "2018-06-01 00:00:00",
         "2.891",
         "4895.379637999999",
         "19572",
         "0.0",
         "7.89226807834298e-07",
         "6.479757322",
         "0.147137988"
        ],
        [
         "3",
         "altima",
         "2018-07-01 00:00:00",
         "2.849",
         "4923.842447",
         "14876",
         "0.0",
         "0.0",
         "11.619001407000003",
         "0.680676075"
        ],
        [
         "4",
         "altima",
         "2018-08-01 00:00:00",
         "2.836",
         "5026.378048",
         "14656",
         "0.0",
         "0.0",
         "32.458100437",
         "1.633934128"
        ]
       ],
       "shape": {
        "columns": 9,
        "rows": 5
       }
      },
      "text/html": [
       "<div>\n",
       "<style scoped>\n",
       "    .dataframe tbody tr th:only-of-type {\n",
       "        vertical-align: middle;\n",
       "    }\n",
       "\n",
       "    .dataframe tbody tr th {\n",
       "        vertical-align: top;\n",
       "    }\n",
       "\n",
       "    .dataframe thead th {\n",
       "        text-align: right;\n",
       "    }\n",
       "</style>\n",
       "<table border=\"1\" class=\"dataframe\">\n",
       "  <thead>\n",
       "    <tr style=\"text-align: right;\">\n",
       "      <th></th>\n",
       "      <th>model</th>\n",
       "      <th>month</th>\n",
       "      <th>gas_price</th>\n",
       "      <th>discount</th>\n",
       "      <th>sales</th>\n",
       "      <th>TV</th>\n",
       "      <th>YouTube</th>\n",
       "      <th>Radio</th>\n",
       "      <th>Print</th>\n",
       "    </tr>\n",
       "  </thead>\n",
       "  <tbody>\n",
       "    <tr>\n",
       "      <th>0</th>\n",
       "      <td>altima</td>\n",
       "      <td>2018-04-01</td>\n",
       "      <td>2.757</td>\n",
       "      <td>2169.005767</td>\n",
       "      <td>6799</td>\n",
       "      <td>0.0</td>\n",
       "      <td>6.313814e-06</td>\n",
       "      <td>0.000000</td>\n",
       "      <td>1.398882</td>\n",
       "    </tr>\n",
       "    <tr>\n",
       "      <th>1</th>\n",
       "      <td>altima</td>\n",
       "      <td>2018-05-01</td>\n",
       "      <td>2.901</td>\n",
       "      <td>4745.168681</td>\n",
       "      <td>14992</td>\n",
       "      <td>0.0</td>\n",
       "      <td>6.313814e-06</td>\n",
       "      <td>3.300356</td>\n",
       "      <td>0.224208</td>\n",
       "    </tr>\n",
       "    <tr>\n",
       "      <th>2</th>\n",
       "      <td>altima</td>\n",
       "      <td>2018-06-01</td>\n",
       "      <td>2.891</td>\n",
       "      <td>4895.379638</td>\n",
       "      <td>19572</td>\n",
       "      <td>0.0</td>\n",
       "      <td>7.892268e-07</td>\n",
       "      <td>6.479757</td>\n",
       "      <td>0.147138</td>\n",
       "    </tr>\n",
       "    <tr>\n",
       "      <th>3</th>\n",
       "      <td>altima</td>\n",
       "      <td>2018-07-01</td>\n",
       "      <td>2.849</td>\n",
       "      <td>4923.842447</td>\n",
       "      <td>14876</td>\n",
       "      <td>0.0</td>\n",
       "      <td>0.000000e+00</td>\n",
       "      <td>11.619001</td>\n",
       "      <td>0.680676</td>\n",
       "    </tr>\n",
       "    <tr>\n",
       "      <th>4</th>\n",
       "      <td>altima</td>\n",
       "      <td>2018-08-01</td>\n",
       "      <td>2.836</td>\n",
       "      <td>5026.378048</td>\n",
       "      <td>14656</td>\n",
       "      <td>0.0</td>\n",
       "      <td>0.000000e+00</td>\n",
       "      <td>32.458100</td>\n",
       "      <td>1.633934</td>\n",
       "    </tr>\n",
       "  </tbody>\n",
       "</table>\n",
       "</div>"
      ],
      "text/plain": [
       "    model      month  gas_price     discount  sales   TV       YouTube  \\\n",
       "0  altima 2018-04-01      2.757  2169.005767   6799  0.0  6.313814e-06   \n",
       "1  altima 2018-05-01      2.901  4745.168681  14992  0.0  6.313814e-06   \n",
       "2  altima 2018-06-01      2.891  4895.379638  19572  0.0  7.892268e-07   \n",
       "3  altima 2018-07-01      2.849  4923.842447  14876  0.0  0.000000e+00   \n",
       "4  altima 2018-08-01      2.836  5026.378048  14656  0.0  0.000000e+00   \n",
       "\n",
       "       Radio     Print  \n",
       "0   0.000000  1.398882  \n",
       "1   3.300356  0.224208  \n",
       "2   6.479757  0.147138  \n",
       "3  11.619001  0.680676  \n",
       "4  32.458100  1.633934  "
      ]
     },
     "execution_count": 17,
     "metadata": {},
     "output_type": "execute_result"
    }
   ],
   "source": [
    "# Load the dataset\n",
    "df = pd.read_excel('Modeling dataset.xlsx', sheet_name='modeling dataset', engine='openpyxl')\n",
    "df.head()"
   ]
  },
  {
   "cell_type": "code",
   "execution_count": 18,
   "id": "edacf3d5",
   "metadata": {},
   "outputs": [],
   "source": [
    "# Define the dependent variable (Sales) and independent variables\n",
    "df['week index']=pd.to_datetime(df['month']).dt.month\n",
    "df[\"Seasonality\"] = df.groupby(['week index'])[\"sales\"].transform('mean')/df['sales'].mean()\n",
    "X = df[['gas_price', 'discount', 'TV', 'YouTube', 'Radio', 'Print',\"Seasonality\"]]\n",
    "y = df['sales']\n",
    "X = sm.add_constant(X)"
   ]
  },
  {
   "cell_type": "code",
   "execution_count": 19,
   "id": "30794795",
   "metadata": {},
   "outputs": [
    {
     "name": "stdout",
     "output_type": "stream",
     "text": [
      "                            OLS Regression Results                            \n",
      "==============================================================================\n",
      "Dep. Variable:                  sales   R-squared:                       0.772\n",
      "Model:                            OLS   Adj. R-squared:                  0.715\n",
      "Method:                 Least Squares   F-statistic:                     13.56\n",
      "Date:                Mon, 19 May 2025   Prob (F-statistic):           1.65e-07\n",
      "Time:                        03:11:11   Log-Likelihood:                -314.52\n",
      "No. Observations:                  36   AIC:                             645.0\n",
      "Df Residuals:                      28   BIC:                             657.7\n",
      "Df Model:                           7                                         \n",
      "Covariance Type:            nonrobust                                         \n",
      "===============================================================================\n",
      "                  coef    std err          t      P>|t|      [0.025      0.975]\n",
      "-------------------------------------------------------------------------------\n",
      "const       -1.571e+04   2803.587     -5.604      0.000   -2.15e+04   -9967.556\n",
      "gas_price    4858.1725   1146.405      4.238      0.000    2509.869    7206.476\n",
      "discount        2.6899      0.624      4.308      0.000       1.411       3.969\n",
      "TV             -6.1612      5.222     -1.180      0.248     -16.859       4.536\n",
      "YouTube        13.2208      5.748      2.300      0.029       1.446      24.996\n",
      "Radio           3.4716      3.756      0.924      0.363      -4.222      11.165\n",
      "Print        -813.5915    326.115     -2.495      0.019   -1481.607    -145.576\n",
      "Seasonality  3567.3944   1932.365      1.846      0.075    -390.876    7525.664\n",
      "==============================================================================\n",
      "Omnibus:                        0.755   Durbin-Watson:                   1.129\n",
      "Prob(Omnibus):                  0.685   Jarque-Bera (JB):                0.835\n",
      "Skew:                           0.277   Prob(JB):                        0.659\n",
      "Kurtosis:                       2.501   Cond. No.                     3.78e+04\n",
      "==============================================================================\n",
      "\n",
      "Notes:\n",
      "[1] Standard Errors assume that the covariance matrix of the errors is correctly specified.\n",
      "[2] The condition number is large, 3.78e+04. This might indicate that there are\n",
      "strong multicollinearity or other numerical problems.\n"
     ]
    }
   ],
   "source": [
    "# Fit the linear regression model\n",
    "model = sm.OLS(y, X).fit()\n",
    "model_summary = model.summary()\n",
    "print(model_summary)"
   ]
  },
  {
   "cell_type": "code",
   "execution_count": 20,
   "id": "9646f1e2",
   "metadata": {},
   "outputs": [
    {
     "data": {
      "text/plain": [
       "(0.7721878466149624, 0.715234808268703)"
      ]
     },
     "execution_count": 20,
     "metadata": {},
     "output_type": "execute_result"
    }
   ],
   "source": [
    "# Calculate R-squared and Adjusted R-squared\n",
    "r_squared = model.rsquared\n",
    "adj_r_squared = model.rsquared_adj\n",
    "r_squared, adj_r_squared"
   ]
  },
  {
   "cell_type": "code",
   "execution_count": 26,
   "id": "fdd002a1",
   "metadata": {},
   "outputs": [
    {
     "data": {
      "application/vnd.microsoft.datawrangler.viewer.v0+json": {
       "columns": [
        {
         "name": "index",
         "rawType": "int64",
         "type": "integer"
        },
        {
         "name": "feature",
         "rawType": "object",
         "type": "string"
        },
        {
         "name": "VIF",
         "rawType": "float64",
         "type": "float"
        }
       ],
       "conversionMethod": "pd.DataFrame",
       "ref": "f3634335-3fe9-4293-b7eb-4f26897bbb12",
       "rows": [
        [
         "0",
         "gas_price",
         "58.035966716592114"
        ],
        [
         "1",
         "discount",
         "61.322409822059676"
        ],
        [
         "2",
         "TV",
         "2.8809982307712407"
        ],
        [
         "3",
         "YouTube",
         "2.9667962704999087"
        ],
        [
         "4",
         "Radio",
         "2.500499094433438"
        ],
        [
         "5",
         "Print",
         "2.8778773385505265"
        ],
        [
         "6",
         "Seasonality",
         "44.26509609877344"
        ]
       ],
       "shape": {
        "columns": 2,
        "rows": 7
       }
      },
      "text/html": [
       "<div>\n",
       "<style scoped>\n",
       "    .dataframe tbody tr th:only-of-type {\n",
       "        vertical-align: middle;\n",
       "    }\n",
       "\n",
       "    .dataframe tbody tr th {\n",
       "        vertical-align: top;\n",
       "    }\n",
       "\n",
       "    .dataframe thead th {\n",
       "        text-align: right;\n",
       "    }\n",
       "</style>\n",
       "<table border=\"1\" class=\"dataframe\">\n",
       "  <thead>\n",
       "    <tr style=\"text-align: right;\">\n",
       "      <th></th>\n",
       "      <th>feature</th>\n",
       "      <th>VIF</th>\n",
       "    </tr>\n",
       "  </thead>\n",
       "  <tbody>\n",
       "    <tr>\n",
       "      <th>0</th>\n",
       "      <td>gas_price</td>\n",
       "      <td>58.035967</td>\n",
       "    </tr>\n",
       "    <tr>\n",
       "      <th>1</th>\n",
       "      <td>discount</td>\n",
       "      <td>61.322410</td>\n",
       "    </tr>\n",
       "    <tr>\n",
       "      <th>2</th>\n",
       "      <td>TV</td>\n",
       "      <td>2.880998</td>\n",
       "    </tr>\n",
       "    <tr>\n",
       "      <th>3</th>\n",
       "      <td>YouTube</td>\n",
       "      <td>2.966796</td>\n",
       "    </tr>\n",
       "    <tr>\n",
       "      <th>4</th>\n",
       "      <td>Radio</td>\n",
       "      <td>2.500499</td>\n",
       "    </tr>\n",
       "    <tr>\n",
       "      <th>5</th>\n",
       "      <td>Print</td>\n",
       "      <td>2.877877</td>\n",
       "    </tr>\n",
       "    <tr>\n",
       "      <th>6</th>\n",
       "      <td>Seasonality</td>\n",
       "      <td>44.265096</td>\n",
       "    </tr>\n",
       "  </tbody>\n",
       "</table>\n",
       "</div>"
      ],
      "text/plain": [
       "       feature        VIF\n",
       "0    gas_price  58.035967\n",
       "1     discount  61.322410\n",
       "2           TV   2.880998\n",
       "3      YouTube   2.966796\n",
       "4        Radio   2.500499\n",
       "5        Print   2.877877\n",
       "6  Seasonality  44.265096"
      ]
     },
     "execution_count": 26,
     "metadata": {},
     "output_type": "execute_result"
    }
   ],
   "source": [
    "# Calculate VIF to check for multicollinearity\n",
    "vif_data = pd.DataFrame()\n",
    "vif_data['feature'] = X.columns[1:]\n",
    "vif_data['VIF'] = [variance_inflation_factor(X.iloc[:,1:].values, i) for i in range(len(X.columns[1:]))]\n",
    "vif_data"
   ]
  },
  {
   "cell_type": "code",
   "execution_count": 22,
   "id": "b9fb9ce6",
   "metadata": {},
   "outputs": [
    {
     "data": {
      "text/plain": [
       "0.14734763282498048"
      ]
     },
     "execution_count": 22,
     "metadata": {},
     "output_type": "execute_result"
    }
   ],
   "source": [
    "# Calculate MAPE\n",
    "y_pred = model.predict(X)\n",
    "mape = mean_absolute_percentage_error(y, y_pred)\n",
    "mape"
   ]
  }
 ],
 "metadata": {
  "kernelspec": {
   "display_name": "Python 3",
   "language": "python",
   "name": "python3"
  },
  "language_info": {
   "codemirror_mode": {
    "name": "ipython",
    "version": 3
   },
   "file_extension": ".py",
   "mimetype": "text/x-python",
   "name": "python",
   "nbconvert_exporter": "python",
   "pygments_lexer": "ipython3",
   "version": "3.12.3"
  }
 },
 "nbformat": 4,
 "nbformat_minor": 5
}
