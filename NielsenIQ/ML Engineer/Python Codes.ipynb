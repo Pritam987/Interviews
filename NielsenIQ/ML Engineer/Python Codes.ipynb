{
 "cells": [
  {
   "cell_type": "code",
   "execution_count": 22,
   "id": "35c892b4",
   "metadata": {},
   "outputs": [],
   "source": [
    "# Write a function for Balanced Brackets\n",
    "def is_balanced(s):\n",
    "    stack = []\n",
    "    for i in s:\n",
    "        if i in '({[':\n",
    "            stack.append(i)\n",
    "        elif i in ')}]':\n",
    "            if stack == [] or (stack[-1] == '(' and i != ')') or (stack[-1] == '{' and i != '}') or (stack[-1] == '[' and i != ']'):\n",
    "                return False\n",
    "            stack.pop()\n",
    "    return not stack"
   ]
  },
  {
   "cell_type": "code",
   "execution_count": 23,
   "id": "2437ac61",
   "metadata": {},
   "outputs": [
    {
     "data": {
      "text/plain": [
       "True"
      ]
     },
     "execution_count": 23,
     "metadata": {},
     "output_type": "execute_result"
    }
   ],
   "source": [
    "# Test the function\n",
    "is_balanced(\"[()]\")"
   ]
  },
  {
   "cell_type": "code",
   "execution_count": 24,
   "id": "d9879640",
   "metadata": {},
   "outputs": [],
   "source": [
    "# Write a function for splitting the array into two equal sum arrays\n",
    "def split_equal_sum(arr):\n",
    "    arr.sort()\n",
    "    target = sum(arr)\n",
    "    if target % 2: return print(\"Not Possible\")\n",
    "    s = 0\n",
    "    for i, x in enumerate(arr):\n",
    "        s += x\n",
    "        if s == target // 2:\n",
    "            return print(\"Lower Half:\", arr[:i+1], \"\\nUpper Half:\", arr[i+1:])\n",
    "    print(\"Not Possible\")"
   ]
  },
  {
   "cell_type": "code",
   "execution_count": 25,
   "id": "3cdb51a2",
   "metadata": {},
   "outputs": [
    {
     "name": "stdout",
     "output_type": "stream",
     "text": [
      "Lower Half: [1, 3] \n",
      "Upper Half: [4]\n"
     ]
    }
   ],
   "source": [
    "# Test the function\n",
    "split_equal_sum([3, 4, 1])"
   ]
  }
 ],
 "metadata": {
  "kernelspec": {
   "display_name": "Python 3",
   "language": "python",
   "name": "python3"
  },
  "language_info": {
   "codemirror_mode": {
    "name": "ipython",
    "version": 3
   },
   "file_extension": ".py",
   "mimetype": "text/x-python",
   "name": "python",
   "nbconvert_exporter": "python",
   "pygments_lexer": "ipython3",
   "version": "3.12.3"
  }
 },
 "nbformat": 4,
 "nbformat_minor": 5
}
