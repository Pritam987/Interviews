{
 "cells": [
  {
   "cell_type": "code",
   "execution_count": 35,
   "id": "376cc607",
   "metadata": {},
   "outputs": [],
   "source": [
    "#write a function to split the array into two arrays such that they have equal sum(using 2 pointer technique)\n",
    "def fname(l):\n",
    "    l=sorted(l)\n",
    "    t=sum(l)\n",
    "    if t%2!=0: print(\"Not Possible\")\n",
    "    else:\n",
    "        t=t//2\n",
    "        la=[]\n",
    "        ua=[]\n",
    "        for i in range(len(l)):\n",
    "            la.append(l[i])\n",
    "            if sum(la)==t:\n",
    "                ua=l[i+1:]\n",
    "                print(\"Lower Half:\",la)\n",
    "                print(\"Upper Half:\",ua) \n",
    "                return\n",
    "        print(\"Not Possible\")    "
   ]
  },
  {
   "cell_type": "code",
   "execution_count": 37,
   "id": "397d3392",
   "metadata": {},
   "outputs": [
    {
     "name": "stdout",
     "output_type": "stream",
     "text": [
      "Not Possible\n"
     ]
    }
   ],
   "source": [
    "fname([6,4])"
   ]
  },
  {
   "cell_type": "code",
   "execution_count": 26,
   "id": "0598ca76",
   "metadata": {},
   "outputs": [],
   "source": [
    "#Balanced Brackets\n",
    "def is_balanced(s):\n",
    "    stack = []\n",
    "    for i in s:\n",
    "        if i in '({[': stack.append(i)\n",
    "        elif i in ')}]':\n",
    "            if stack==[] or (stack[-1]!=\"(\" and i == ')') or (stack[-1]!=\"{\" and i == '}') or (stack[-1]!=\"[\" and i == ']'):\n",
    "                return False\n",
    "            stack.pop()\n",
    "    return not stack"
   ]
  },
  {
   "cell_type": "code",
   "execution_count": 34,
   "id": "f50858e4",
   "metadata": {},
   "outputs": [
    {
     "data": {
      "text/plain": [
       "True"
      ]
     },
     "execution_count": 34,
     "metadata": {},
     "output_type": "execute_result"
    }
   ],
   "source": [
    "is_balanced(\"\")"
   ]
  }
 ],
 "metadata": {
  "kernelspec": {
   "display_name": "Python 3",
   "language": "python",
   "name": "python3"
  },
  "language_info": {
   "codemirror_mode": {
    "name": "ipython",
    "version": 3
   },
   "file_extension": ".py",
   "mimetype": "text/x-python",
   "name": "python",
   "nbconvert_exporter": "python",
   "pygments_lexer": "ipython3",
   "version": "3.12.3"
  }
 },
 "nbformat": 4,
 "nbformat_minor": 5
}
